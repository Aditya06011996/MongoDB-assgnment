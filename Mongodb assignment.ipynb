{
 "cells": [
  {
   "cell_type": "markdown",
   "id": "e14bb3be-d379-44ff-b353-1f97a6aca192",
   "metadata": {},
   "source": [
    "Q 1 What is MongoDB? Explain non-relational databases in short. In which scenarios it is preferred to use MongoDB over SQL databases?"
   ]
  },
  {
   "cell_type": "markdown",
   "id": "d687e6c7-61ec-4f8d-9a24-9e14977915b7",
   "metadata": {},
   "source": [
    "Ans MongoDB is a popular and widely used NoSQL (non-relational) database management system. It is designed to store and manage unstructured or semi-structured data, making it suitable for handling large volumes of diverse data types. MongoDB stores data in a format called BSON (Binary JSON), which is a binary representation of JSON like documents.\n",
    "\n",
    "Non-relational databases, often reffered to as NoSQL databases, are a category of databases that do not follow the traditional tabular, structured model of relational databases. Instead,they provide a flexible and schema-less data model, allowing for more dynamic and agile data storage. Non-relational databases are suitable for scenarios where the data is complex , constantly changing, or doesn't fit neatly into predefined tables and relationships.\n",
    "\n",
    "In scenarios where data is unstructured or constantly changing, NoSQL databases like MongoDB are often preferred over traditional SQL databases for:\n",
    "\n",
    "1.Big Data and real-time analytics : MongoDB can handle large volumes of data and support real-time data analysis, which is useful for applicatiions dealing with vast amounts of data like Iot, social media, and real-time analytics.\n",
    "\n",
    "2.Content Management Systems(CMS): CMS platforms often need to handle different content types with varying structures, making MongoDB's flexible schema a good fit for such applications.\n",
    "\n",
    "3.Agile development : When working in fast-paced development environments, where requirements change frequently, the schema-less nature of MongoDB allows for more agile and iterative development.\n",
    "\n",
    "4.Rapid prototyping : For early-stage projects and prototypes, MongoDB's easy setup and flexibility can be advantageous for quickly experimenting with data models.\n",
    "\n",
    "5.Geospatial data : MongoDB has robust support for geospatial data and queries,making it a preferred choice for location-based applications.\n",
    "\n",
    "It's important to note that the choice between MongoDB and SQL databases depends on the specific requirements of the project and the nature of the data being handled. Each type of database has its strengths and weaknesses, and the decision should be on the specific use case and data model requirements. "
   ]
  },
  {
   "cell_type": "markdown",
   "id": "fe9756ad-b1ae-4662-b4b3-65ada34ef302",
   "metadata": {},
   "source": [
    "Q 2 State and Explain the features of MongoDB."
   ]
  },
  {
   "cell_type": "markdown",
   "id": "2e693327-fa42-4d53-98fd-a6c54411f463",
   "metadata": {},
   "source": [
    "Ans MongoDB is a popular NoSQL database management system that offers various features, making it a versatile and powerful choice for managing unstructured or semi-structured data. Here are some key features of MongoDB:\n",
    "\n",
    "1.Document-Oriented : MongoDB is a document-oriented database, which means it stores data in BSON (Binary JSON) documents. Each document represents a single record and can have a flexible and dynamic schema. Documents can contain nested data structures, arrays, and other complex types, making it easy to represent complex data models.\n",
    "\n",
    "2.Schema Flexibility : Unlike traditional relational databases, MongoDB does not enforce a rigid schema. Each document in a collection can have different fields, and new fields can be added to documents without affecting the other documents in the collection. This feature is particularly useful in Agile development environments where requirements can charge frequently.\n",
    "\n",
    "3.Scalability : MongoDB is designed to scale horizontally by distributing data across multiple servers or nodes. It supports sharding, which allows you to partition data across clusters, enabling it to handle large-scale applications and massive amounts of data.\n",
    "\n",
    "4.High Performance : MongoDB's architecture and indexing mechanisms contribute to its high performance. It uses BSON (Binary JSON) format for data storage, which is efficient and compact. Additionally, it provides various indexing options to optimize query performance, such as single field indexes, compound indexes, and geospatial indexes.\n",
    "\n",
    "5.Replication and Fault Tolerance : MongoDB supports replica sets, which are groups of MongoDB servers that maintain multiple copies of data. This feature ensures data redundancy and provides fault tolerance. If one node fails, the other nodes can take over its duties, ensuring continuous availability of the database.\n",
    "\n",
    "These features make MongoDB a popular choice for developers working on modern applications that require flexible,scalable, and high performance databases to handle dynamic and large datasets."
   ]
  },
  {
   "cell_type": "markdown",
   "id": "1f08d2b6-fa7c-45a6-8f2e-5375797b847b",
   "metadata": {},
   "source": [
    "Q 3 Write a code to connect MongoDB to python. Also,create a database and a collection in MongoDB."
   ]
  },
  {
   "cell_type": "markdown",
   "id": "48deaf94-a972-496b-8166-e6192796d6e8",
   "metadata": {},
   "source": [
    "Ans To connect Python to MongoDB and create a database and a collection, you'll need to install the required MongoDB driver for python, which is usually pymongo. You can install it using pip:"
   ]
  },
  {
   "cell_type": "code",
   "execution_count": null,
   "id": "a5a4c9a9-a5e4-46bc-9a8c-0f1477c216d2",
   "metadata": {},
   "outputs": [],
   "source": [
    "pip install pymongo"
   ]
  },
  {
   "cell_type": "markdown",
   "id": "1e923c99-ede0-4e70-8869-3819a4674010",
   "metadata": {},
   "source": [
    "Once you have pymongo installed, you can use the following Python code to connect to MongoDB and create a database and a collection:"
   ]
  },
  {
   "cell_type": "code",
   "execution_count": 1,
   "id": "24fafc28-0814-483d-9b0b-878f5c9af56f",
   "metadata": {},
   "outputs": [
    {
     "ename": "SyntaxError",
     "evalue": "incomplete input (2297180980.py, line 29)",
     "output_type": "error",
     "traceback": [
      "\u001b[0;36m  Cell \u001b[0;32mIn[1], line 29\u001b[0;36m\u001b[0m\n\u001b[0;31m    {\"name\": \"Jane\", \"age\":25,\u001b[0m\n\u001b[0m                               ^\u001b[0m\n\u001b[0;31mSyntaxError\u001b[0m\u001b[0;31m:\u001b[0m incomplete input\n"
     ]
    }
   ],
   "source": [
    "import pymongo\n",
    "\n",
    "\n",
    "#Replace 'your_mongodb_connection_string' with your actual MongoDB connection string\n",
    "#If your MongoDB instance is running on localhost, the connection string would be 'mongodb://localhost:27017/'\n",
    "#You can create a free MongoDB Atlas account to get a connection string if you don't have one.\n",
    "connection_string = 'your_mongodb_connection_string'\n",
    "\n",
    "#Connect to MongoDB\n",
    "try:\n",
    "    client = pymongo.MongoClient(connection_string)\n",
    "    print(\"Connected successfully to MongoDB!\")\n",
    "except pymongo.errors.ConnectionFailure as e:\n",
    "    print(\"Could not connect to MongoDB: %s\" % e)\n",
    "    exit()\n",
    "    \n",
    "#Create or get a database\n",
    "db_name = 'your_database_name'\n",
    "database = client[db_name]\n",
    "\n",
    "#Create or get a collection\n",
    "collection_name = 'your_collection_name'\n",
    "collection = database[collection_name]\n",
    "\n",
    "#Sample data to insert into the collection (you can replace this with your own data)\n",
    "\n",
    "sample_data = [\n",
    "    {\"name\": \"John\", \"age\":30, \"city\": \"New York\"},\n",
    "    {\"name\": \"Jane\", \"age\":25, \"city\": \"San Francisco\"},\n",
    "    {\"name\": \"Bob\",  \"age\":40, \"city\": \"Los Angeles\"}\n",
    "] \n",
    "\n",
    "#Insert sample data into the collection\n",
    "collection.insert_many(sample_data)\n",
    "\n",
    "#Close the connection\n",
    "client.close()\n",
    "\n"
   ]
  },
  {
   "cell_type": "markdown",
   "id": "d0bb85c1-9388-4fca-9fb5-3295f350c922",
   "metadata": {},
   "source": [
    "Make sure to replace 'your_mongodb_connection_string' , 'your_database_name' and 'your_collection_name' with your actual MongoDB connection string, desired database name, and collection name, respectively. Also, modify the 'sample_data' list to insert your own data into the collection.\n",
    "\n",
    "Ensure your MongoDB server is running and accessible through the connection string you provide. The code will connect to MongoDB, create a database if it doesn't exist, create a collection inside that database, and insert the sample data into the collection."
   ]
  },
  {
   "cell_type": "markdown",
   "id": "ca34c49e-a826-40ea-a4ff-59cc51933c79",
   "metadata": {},
   "source": [
    "Q 4 Using the database and the collection created in question number 3, write a code to insert one record, and insert many records. Use the find() and find_one() methods to print the inserted record."
   ]
  },
  {
   "cell_type": "markdown",
   "id": "bd419a80-3007-495b-ab54-3625d7da9fa8",
   "metadata": {},
   "source": [
    "Ans To insert one record and multiple records into the MongoDB collection created in question number 3 and use the find() and fine_one() methods to print the inserted records, you can use the following Python code:"
   ]
  },
  {
   "cell_type": "code",
   "execution_count": null,
   "id": "43ae0515-5e79-4074-836c-d696b9670a06",
   "metadata": {},
   "outputs": [],
   "source": [
    "import pymongo\n",
    "\n",
    "#Replace 'your_mongodb_connection_string' with your actual MongoDB connection string\n",
    "connection_string = 'your_mongodb_connection_string'\n",
    "\n",
    "#Connect to MongoDB\n",
    "try:\n",
    "    client = pymongo.MongoClient(connection_string)\n",
    "    print(\"Connected successfully to MongoDB!\")\n",
    "except pymongo.errors.ConnectionFailure as e:\n",
    "    print(\"Could not connect to MongoDB: %s\" % e)\n",
    "    exit()\n",
    "    \n",
    "# Access the database and collection\n",
    "db_name = 'your_database_name'\n",
    "collection_name = 'your_collection_name'\n",
    "database = client[db_name]\n",
    "collection = database[collection_name]\n",
    "\n",
    "#Function to print all records in the collection\n",
    "def print_all_records():\n",
    "    print(\"All records in the collection:\")\n",
    "    for record in collection.find():\n",
    "        print(record)\n",
    "        \n",
    "#Function to print the first record in the collection\n",
    "def print_one_record():\n",
    "    print(\"One record in the collection:\")\n",
    "    record = collection.find_one()\n",
    "    print(record)\n",
    "    \n",
    "#Insert one record into the collection\n",
    "one_record = {\"name\": \"Alice\", \"age\": 28, \"city\": \"Chicago\"}\n",
    "collection.insert_one(one_record)\n",
    "\n",
    "#Insert many records into the collection \n",
    "many_records = [\n",
    "    {\"name\": \"Michael\", \"age\":35, \"city\": \"Houston\"},\n",
    "    {\"name\": \"Emily\", \"age\": 22, \"city\":\"Boston\"}\n",
    "]\n",
    "collection.insert_many(many_records)\n",
    "\n",
    "#Print the inserted records\n",
    "print_all_records()\n",
    "print_one_record()\n",
    "\n",
    "#Close the connection\n",
    "client.close()\n"
   ]
  },
  {
   "cell_type": "markdown",
   "id": "5e70ac0b-76f6-4a16-9c64-e7e327aea7f3",
   "metadata": {},
   "source": [
    "Make sure to replace 'your_mongodb_connection_string', 'your_database_name' and 'your_collection_name' with your actual MongoDB connection string, database name, and collection name, respectively.\n",
    "\n",
    "In this code, we first define two functions, 'print_all_records()' and 'print_one_record()', to print all records and the first record in the collection, respectively. After connecting to MongoDB and accessing the database and collection, we insert one record using 'insert_one()' and multiple records using 'insert_many()'. Then, we use the defined functions to print the inserted records.\n",
    "\n",
    "Remember to have your MongoDB server running and accessible through the connection string you provide."
   ]
  },
  {
   "cell_type": "markdown",
   "id": "f50cbd87-fc2e-4185-b94a-b43f850857cd",
   "metadata": {},
   "source": [
    "Q 5 Explain how you can use the find() method to query the MongoDB database. Write a simple code to demonstrate this."
   ]
  },
  {
   "cell_type": "markdown",
   "id": "a540e684-8424-4d35-8d0c-e8035ae2f415",
   "metadata": {},
   "source": [
    "Ans In MongoDB, the find() method is used to query the database and retrieve documents from a collection that match the specified criteria. The 'find()' method returns a cursor, which is a pointer to the result set, allowing you to iterate through the matching documents. You can apply various filtering conditions and projections to customize the query results.\n",
    "\n",
    "Here's how you can use the 'find()' method to query the MongoDB database:\n",
    "\n",
    "1.Specify the criteria : You can provide a query document as an argument to the 'find()'method. This query document contains key-value pairs representing the criteria that the documents must meet to be returned in the result set.\n",
    "\n",
    "2.Optional Projection : You can specify a projection document as a second argument to the find() method if you want to limit the fields returned in the result set. This is useful when you only need specific fields from the documents and not the entire documents.\n",
    "\n",
    "3.Iterate through the cursor : Once you obtain the cursor from the find() method , you can use a loop or other cursor methods to access and process the matching documents.\n",
    "\n",
    "Now, let's demonstrate this with a simple Python code:"
   ]
  },
  {
   "cell_type": "code",
   "execution_count": null,
   "id": "6b2a7ff1-c346-425d-a956-2608c3eed49c",
   "metadata": {},
   "outputs": [],
   "source": [
    "import pymongo\n",
    "\n",
    "#Replace 'your_mongodb_connection_string' with your actual MongoDB connection string\n",
    "connection_string = 'your_mongodb_connection_string'\n",
    "\n",
    "#Connect to MongoDB\n",
    "try:\n",
    "    client = pymongo.MongoClient(connection_string)\n",
    "    print(\"Connected successfully to MongoDB!\")\n",
    "except pymongo.errors.ConnectionFailure as e:\n",
    "    print(\"Could not connect to MongoDB: %s\" % e)\n",
    "    exit()\n",
    "    \n",
    "# Access the database and collection\n",
    "db_name = 'your_database_name'\n",
    "collection_name = 'your_collection_name'\n",
    "database = client[db_name]\n",
    "collection = database[collection_name]\n",
    "\n",
    "#Query criteria (you can modify this to match your data)\n",
    "query = {\"age\": {\"$gt\": 30}} #Retrieve documents where the \"age\" field is greater than 30\n",
    "\n",
    "#Perform the find() query and get the cursor\n",
    "cursor = collection.find(query)\n",
    "\n",
    "#Perform the find() query and get the cursor\n",
    "cursor = collection.find(query)\n",
    "\n",
    "#Print the matching documents\n",
    "print(\"Matching documents:\")\n",
    "for document in cursor:\n",
    "    print(document)\n",
    "    \n",
    "#Close the connection\n",
    "client.close()"
   ]
  },
  {
   "cell_type": "markdown",
   "id": "703aa294-f7c8-40cb-8671-6142f48581db",
   "metadata": {},
   "source": [
    "In this example, we connect to MongoDB, access the specified database and collection. We then create a query document with the criteria that the documents' \"age\" field must be greater than 30. The find() method is used to execute the query, and the matching documents are retrieved and printed one by one using a loop.\n",
    "\n",
    "Remember to replace 'your_mongodb_connection_string', 'your_database_name', and 'your_collection_name' with your actual MongoDB connection string, database name, and collection name, respectively.\n",
    "\n",
    "You can modify the 'query' dictionary to define different filtering conditions according to your specific needs."
   ]
  },
  {
   "cell_type": "markdown",
   "id": "b50ddb99-3cbe-48ae-926b-76bb628831b3",
   "metadata": {},
   "source": [
    "Q 6 Explain the sort() method. Give an example to demonstrate sorting in MongoDB."
   ]
  },
  {
   "cell_type": "markdown",
   "id": "541f97b5-f33f-41e9-9256-a0678b465438",
   "metadata": {},
   "source": [
    "Ans In MongoDB, the 'sort()' method is used to sort the documents in a collection based on one or more fields. It allows you to specify the sorting order, which can be ascending(1) or descending(-1),for each field you want to sort on. By default, if no sorting order is specified, the method will sort in ascending order.\n",
    "\n",
    "The basic syntax of the 'sort()' method is as follows:"
   ]
  },
  {
   "cell_type": "code",
   "execution_count": null,
   "id": "06dc321c-857b-4348-91a2-2a02eff438fa",
   "metadata": {},
   "outputs": [],
   "source": [
    "db.collection.find().sort(<field1>: <sort_order1>, <field2>: <sort_order2>,...)"
   ]
  },
  {
   "cell_type": "markdown",
   "id": "fb6dcdd1-2056-4a52-a339-aab30f12cdfa",
   "metadata": {},
   "source": [
    "*<field1>,<field2>,...: The fields by which you want to sort the documents.\n",
    "*<sort_order1>,<sort_order2>,...: The sorting order for each field. Use 1 for ascending and -1 for descending.\n",
    "    \n",
    "The 'sort()' method can be used in combination with other query operators to filter and sort the result set as needed.\n",
    "    \n",
    "Let's see an example to demonstrate sorting in MongoDB:\n",
    "    \n",
    "Suppose we have a collection called \"employees\" with documents representing employees in a company. Each document has fields like \"name\", \"age\", and \"salary\".\n",
    "We want to retrieve employees sorted by their age in descending order."
   ]
  },
  {
   "cell_type": "code",
   "execution_count": null,
   "id": "ff82024b-34d2-47f4-b656-58ab0b77f772",
   "metadata": {},
   "outputs": [],
   "source": [
    "import pymongo\n",
    "\n",
    "#Replace 'your_mongodb_connection_string' with your actual MongoDB connection string\n",
    "connection_string = 'your_mongodb_connection_string'\n",
    "\n",
    "#Connect to MongoDB\n",
    "try:\n",
    "    client = pymongo.MongoClient(connection_string)\n",
    "    print(\"Connected successfully to MongoDB!\")\n",
    "except pymongo.errors.ConnectionFailure as e:\n",
    "    print(\"Could not connect to MongoDB: %s\" % e)\n",
    "    exit()\n",
    "    \n",
    "# Access the database and collection\n",
    "db_name = 'your_database_name'\n",
    "collection_name = 'your_collection_name'\n",
    "database = client[db_name]\n",
    "collection = database[collection_name]\n",
    "\n",
    "#Query and sort criteria \n",
    "query = {} #Empty query, we want all documents\n",
    "sort_order = [(\"age\",-1)] #Sort by the \"age\" field in descending order\n",
    "\n",
    "# Perform the find() query and sort the result set\n",
    "cursor = collection.find(query).sort(sort_order)\n",
    "\n",
    "#Print the sorted documents\n",
    "print(\"Sorted employees by age (descending order):\")\n",
    "for document in cursor:\n",
    "    print(document)\n",
    "    \n",
    " # Close the connection\n",
    "client.close()"
   ]
  },
  {
   "cell_type": "markdown",
   "id": "bcae58fa-a3b8-4594-aa87-d7a4eaa80d8c",
   "metadata": {},
   "source": [
    "In this example, we connect to MongoDB, access the \"employees\" collection, and define an empty query to retrieve all documents. We then specify the sorting order by using the 'sort()' method with the 'sort_order' list, where we sort the documents by the \"age\" field in descending order(-1).\n",
    "\n",
    "The 'cursor' obtained from the 'find().sort()' query contains the sorted documents, which we then print one by one.\n",
    "\n",
    "Remember to replace 'your_mongodb_connection_string' and 'your_database_name' with your actual MongoDB connection string and database name, respectively. Adjust the 'sort_order' list to sort in ascending(1) or descending (-1) order for different fields, or sort by multiple fields by adding more tuples to the 'sort_order' list."
   ]
  },
  {
   "cell_type": "markdown",
   "id": "4ad45328-e852-4149-a5a6-f079192caf3e",
   "metadata": {},
   "source": [
    "Q 7 Explain why delete_one(), delete_many(), and drop() is used."
   ]
  },
  {
   "cell_type": "markdown",
   "id": "9f916e3f-f421-498e-b574-8dc584ea3aae",
   "metadata": {},
   "source": [
    "Ans 'delete_one()' , 'delete_many()' , and 'drop()' are methods commonly used in database management systems or database libraries to manipulate data and collections (tables) in databases. They are typically used to remove data or entire collections from a database. Let's understand each method:\n",
    "\n",
    "1.'delete_one()':\n",
    "* This method is used to delete a single document (row) from a collection(table) that matches a specific filter condition. In the context of NoSQL databases like MongoDB, a \"document\" is analogous to a row in a traditional relational database. It takes a filter as a parameter to identify the document to be deleted.\n",
    "* Usage example : Suppose you have a collection called \"users\" and you want to delete a specific user with the username \"john123\". You would use 'delete_one({\"username\": \"john123\"})' to remove that particular document from the \"users\" collection.\n",
    "\n",
    "2.'delete_many()':\n",
    "*This method is used to delete multiple documents(rows) from a collection (table) that match a specific filter condition. It allows you to remove multiple documents that meet the specified criteria.\n",
    "*Usage example : If you want to delete all users who have not logged in for the past six months from the \"users\" collection, you could use 'delete_many({\"last_login\": {\"$lt\": six_months_ago }})'.This would remove all documents that satisfy the condition of their \"last_login\" field being less than the timestamp representing six months ago.\n",
    "\n",
    "3.'drop()'\n",
    "*This method is used to completely remove an entire collection (table) from the database. It does not take any parameters and acts as a way to delete the entire collection in one operation.\n",
    "*Usage example : if you want to remove the entire \"products\" collection from the database, you would simply call 'drop()' on the \"products\" collection, and all the documents in that collection would be deleted, effectively removing the entire collection.\n",
    "\n",
    "It's essential to be cautious when using these methods, especially 'delete_many()' and 'drop()', as they can result in permanent data loss. Always ensure you have proper backups or confirm that you are executing these operations on the correct data and collections to avoid unintentional data deletion."
   ]
  },
  {
   "cell_type": "code",
   "execution_count": null,
   "id": "019fd1c3-4378-40ec-80c7-99adb7181b04",
   "metadata": {},
   "outputs": [],
   "source": []
  }
 ],
 "metadata": {
  "kernelspec": {
   "display_name": "Python 3 (ipykernel)",
   "language": "python",
   "name": "python3"
  },
  "language_info": {
   "codemirror_mode": {
    "name": "ipython",
    "version": 3
   },
   "file_extension": ".py",
   "mimetype": "text/x-python",
   "name": "python",
   "nbconvert_exporter": "python",
   "pygments_lexer": "ipython3",
   "version": "3.10.8"
  }
 },
 "nbformat": 4,
 "nbformat_minor": 5
}
